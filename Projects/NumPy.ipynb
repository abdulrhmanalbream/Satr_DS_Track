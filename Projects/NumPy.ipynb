{
  "nbformat": 4,
  "nbformat_minor": 0,
  "metadata": {
    "colab": {
      "provenance": []
    },
    "kernelspec": {
      "name": "python3",
      "display_name": "Python 3"
    },
    "language_info": {
      "name": "python"
    }
  },
  "cells": [
    {
      "cell_type": "code",
      "source": [
        "import  numpy as np"
      ],
      "metadata": {
        "id": "B8KDdS69lNQI"
      },
      "execution_count": 4,
      "outputs": []
    },
    {
      "cell_type": "markdown",
      "source": [
        "# إنشاء مصفوفة مكونة من 15 floats باستخدام الدالة linspace."
      ],
      "metadata": {
        "id": "DQqptAGp4hrb"
      }
    },
    {
      "cell_type": "code",
      "execution_count": 5,
      "metadata": {
        "colab": {
          "base_uri": "https://localhost:8080/"
        },
        "id": "MnnJ0WYAlKSl",
        "outputId": "5c43eaa9-fb26-4975-fbe3-9b1fdcbc4c5e"
      },
      "outputs": [
        {
          "output_type": "execute_result",
          "data": {
            "text/plain": [
              "array([0.        , 0.14285714, 0.28571429, 0.42857143, 0.57142857,\n",
              "       0.71428571, 0.85714286, 1.        , 1.14285714, 1.28571429,\n",
              "       1.42857143, 1.57142857, 1.71428571, 1.85714286, 2.        ])"
            ]
          },
          "metadata": {},
          "execution_count": 5
        }
      ],
      "source": [
        "np.linspace(0, 2, 15)"
      ]
    },
    {
      "cell_type": "markdown",
      "source": [
        "# إنشاء مصفوفة ثلاثية الأبعاد (3D) بشكل (2, 2, 3) تحتوي الأربع مصفوفات التالية:\n",
        "\n"
      ],
      "metadata": {
        "id": "Es18Ffd841mG"
      }
    },
    {
      "cell_type": "code",
      "source": [
        "array_3d = np.array([\n",
        "    [ [1.1, 2.1, 3.1], [4.1, 5.1, 6.1] ],\n",
        "    [ [7.1, 8.1, 9.1], [10.1, 11.1, 12.1] ]\n",
        "])\n",
        "array_3d.shape\n"
      ],
      "metadata": {
        "colab": {
          "base_uri": "https://localhost:8080/"
        },
        "id": "oZPdA-bLlLlL",
        "outputId": "72840fd2-d62b-40dc-a244-a6bbd842e2be"
      },
      "execution_count": 6,
      "outputs": [
        {
          "output_type": "execute_result",
          "data": {
            "text/plain": [
              "(2, 2, 3)"
            ]
          },
          "metadata": {},
          "execution_count": 6
        }
      ]
    },
    {
      "cell_type": "markdown",
      "source": [
        "# طباعة جميع خصائص المصفوفة: (type, datatype, shape, size, dimension).\n"
      ],
      "metadata": {
        "id": "MGP5WRvM48DE"
      }
    },
    {
      "cell_type": "code",
      "source": [
        "print(\"type of array: \" ,type(array_3d))\n",
        "print(\"Data Type: \" ,array_3d.dtype)\n",
        "print(\"shape \" ,array_3d.shape)\n",
        "print(\"size \" ,array_3d.size)\n",
        "print(\"dimensions \" ,array_3d.ndim)"
      ],
      "metadata": {
        "colab": {
          "base_uri": "https://localhost:8080/"
        },
        "id": "B_i0D00PlSr-",
        "outputId": "68a3080e-c3ec-4bf1-e1ac-cb639fa4e95a"
      },
      "execution_count": 7,
      "outputs": [
        {
          "output_type": "stream",
          "name": "stdout",
          "text": [
            "type of array:  <class 'numpy.ndarray'>\n",
            "Data Type:  float64\n",
            "shape  (2, 2, 3)\n",
            "size  12\n",
            "dimensions  3\n"
          ]
        }
      ]
    },
    {
      "cell_type": "markdown",
      "source": [
        "# تعديل المصفوفة التي أنشأتها سابقًا لتكون ذات أربعة أبعاد (4D) مع طباعة (dimension و shape).\n"
      ],
      "metadata": {
        "id": "kgQplHe74_Pl"
      }
    },
    {
      "cell_type": "code",
      "source": [
        "array_4d = np.array(array_3d, ndmin=4)\n",
        "print(\"the dimensions of new array \" ,array_4d.ndim)\n",
        "print(\"shape of new array\" ,array_4d.shape)"
      ],
      "metadata": {
        "colab": {
          "base_uri": "https://localhost:8080/"
        },
        "id": "97HWmo32lU37",
        "outputId": "85696b1c-6c37-4abf-fb56-15af3be39de2"
      },
      "execution_count": 8,
      "outputs": [
        {
          "output_type": "stream",
          "name": "stdout",
          "text": [
            "the dimensions of new array  4\n",
            "shape of new array (1, 2, 2, 3)\n"
          ]
        }
      ]
    },
    {
      "cell_type": "markdown",
      "source": [
        "# تعديل نوع المصفوفة التي أنشأتها سابقًا لتكون من نوع integer.\n",
        "\n"
      ],
      "metadata": {
        "id": "ojNZl1YU5DZI"
      }
    },
    {
      "cell_type": "code",
      "source": [
        "array_int = array_4d.astype(int)\n",
        "print(array_int)\n",
        "array_int.dtype\n"
      ],
      "metadata": {
        "colab": {
          "base_uri": "https://localhost:8080/"
        },
        "id": "HsjheL82mEv7",
        "outputId": "30a383be-947d-4ae1-9540-cf44647eede1"
      },
      "execution_count": 9,
      "outputs": [
        {
          "output_type": "stream",
          "name": "stdout",
          "text": [
            "[[[[ 1  2  3]\n",
            "   [ 4  5  6]]\n",
            "\n",
            "  [[ 7  8  9]\n",
            "   [10 11 12]]]]\n"
          ]
        },
        {
          "output_type": "execute_result",
          "data": {
            "text/plain": [
              "dtype('int64')"
            ]
          },
          "metadata": {},
          "execution_count": 9
        }
      ]
    },
    {
      "cell_type": "markdown",
      "source": [
        "#طباعة جميع عناصر المصفوفة باستخدام ()nditer.\n"
      ],
      "metadata": {
        "id": "Du-nUzg55LEi"
      }
    },
    {
      "cell_type": "code",
      "source": [
        "for x in np.nditer(array_int):\n",
        "  print(x, end= ' ')"
      ],
      "metadata": {
        "colab": {
          "base_uri": "https://localhost:8080/"
        },
        "id": "LDvtqU0YnDGP",
        "outputId": "ae6947b4-f745-4887-a986-ae80c5d39e15"
      },
      "execution_count": 10,
      "outputs": [
        {
          "output_type": "stream",
          "name": "stdout",
          "text": [
            "1 2 3 4 5 6 7 8 9 10 11 12 "
          ]
        }
      ]
    },
    {
      "cell_type": "markdown",
      "source": [
        "#طباعة العنصر رقم 8 في المصفوفة.\n",
        "\n"
      ],
      "metadata": {
        "id": "ZTk2PW7d5OY9"
      }
    },
    {
      "cell_type": "code",
      "source": [
        "print(array_int[0, 1, 0, 1])"
      ],
      "metadata": {
        "colab": {
          "base_uri": "https://localhost:8080/"
        },
        "id": "pkaGiQD2n1w7",
        "outputId": "6c526854-193d-409d-f151-e3982f66c8ee"
      },
      "execution_count": 11,
      "outputs": [
        {
          "output_type": "stream",
          "name": "stdout",
          "text": [
            "8\n"
          ]
        }
      ]
    },
    {
      "cell_type": "markdown",
      "source": [
        "#طباعة العنصر رقم 5 ورقم 6 في المصفوفة.\n",
        "\n"
      ],
      "metadata": {
        "id": "EiKcWuVP5SJy"
      }
    },
    {
      "cell_type": "code",
      "source": [
        "print(array_int[0, 0, 1, 1:])\n"
      ],
      "metadata": {
        "colab": {
          "base_uri": "https://localhost:8080/"
        },
        "id": "s_7l83lqn5Tu",
        "outputId": "1f9f2a41-47b8-477f-ce68-54cbcf263421"
      },
      "execution_count": 12,
      "outputs": [
        {
          "output_type": "stream",
          "name": "stdout",
          "text": [
            "[5 6]\n"
          ]
        }
      ]
    },
    {
      "cell_type": "markdown",
      "source": [
        "#البحث عن العنصر رقم 8 في المصفوفة باستخدام ()where.\n",
        "\n"
      ],
      "metadata": {
        "id": "XX-yn6XU5UM5"
      }
    },
    {
      "cell_type": "code",
      "source": [
        "print(np.where(array_int == 8))"
      ],
      "metadata": {
        "colab": {
          "base_uri": "https://localhost:8080/"
        },
        "id": "o4umnaXJn8eJ",
        "outputId": "97eed924-1bb4-467a-c1e6-d79d0ad5aa10"
      },
      "execution_count": 13,
      "outputs": [
        {
          "output_type": "stream",
          "name": "stdout",
          "text": [
            "(array([0]), array([1]), array([0]), array([1]))\n"
          ]
        }
      ]
    },
    {
      "cell_type": "markdown",
      "source": [
        "#تعديل شكل المصفوفة السابقة لتكون بالشكل التالي:\n",
        "\n"
      ],
      "metadata": {
        "id": "qAcJyv-G5XYI"
      }
    },
    {
      "cell_type": "code",
      "source": [
        "'''\n",
        "array([\n",
        "[[ 1, 2],\n",
        "[ 3,  4],\n",
        "[ 5,  6]],\n",
        "\n",
        "[[ 7,  8],\n",
        "[ 9, 10],\n",
        "[11, 12]]\n",
        "])\n",
        "'''"
      ],
      "metadata": {
        "colab": {
          "base_uri": "https://localhost:8080/",
          "height": 35
        },
        "id": "pyI7OuuHoAw8",
        "outputId": "6de897b2-4bc4-4686-f16d-0e7e90424a44"
      },
      "execution_count": 14,
      "outputs": [
        {
          "output_type": "execute_result",
          "data": {
            "text/plain": [
              "'\\narray([\\n[[ 1, 2],\\n[ 3,  4],\\n[ 5,  6]],\\n\\n[[ 7,  8],\\n[ 9, 10],\\n[11, 12]]\\n])\\n'"
            ],
            "application/vnd.google.colaboratory.intrinsic+json": {
              "type": "string"
            }
          },
          "metadata": {},
          "execution_count": 14
        }
      ]
    },
    {
      "cell_type": "code",
      "source": [
        "array_int.reshape(2,3,2)"
      ],
      "metadata": {
        "colab": {
          "base_uri": "https://localhost:8080/"
        },
        "id": "ahencOs92Fdh",
        "outputId": "84d73928-ce15-49a2-84db-4f05f360068f"
      },
      "execution_count": 15,
      "outputs": [
        {
          "output_type": "execute_result",
          "data": {
            "text/plain": [
              "array([[[ 1,  2],\n",
              "        [ 3,  4],\n",
              "        [ 5,  6]],\n",
              "\n",
              "       [[ 7,  8],\n",
              "        [ 9, 10],\n",
              "        [11, 12]]])"
            ]
          },
          "metadata": {},
          "execution_count": 15
        }
      ]
    },
    {
      "cell_type": "code",
      "source": [
        "array_int"
      ],
      "metadata": {
        "colab": {
          "base_uri": "https://localhost:8080/"
        },
        "id": "GBJMLv8Z2UUg",
        "outputId": "544b5ed1-e8ee-4e5e-f169-a03d9a7946a1"
      },
      "execution_count": 16,
      "outputs": [
        {
          "output_type": "execute_result",
          "data": {
            "text/plain": [
              "array([[[[ 1,  2,  3],\n",
              "         [ 4,  5,  6]],\n",
              "\n",
              "        [[ 7,  8,  9],\n",
              "         [10, 11, 12]]]])"
            ]
          },
          "metadata": {},
          "execution_count": 16
        }
      ]
    },
    {
      "cell_type": "markdown",
      "source": [
        "#دمج المصفوفتين التالية بدون تحديد axis:\n"
      ],
      "metadata": {
        "id": "rCQpV5_j5bbe"
      }
    },
    {
      "cell_type": "code",
      "source": [
        "arr1 = np.array([['A', 'B'], ['E', 'F']])\n",
        "arr2 = np.array([['C', 'D'], ['G', 'H']])\n",
        "\n",
        "joined_arrays = np.concatenate((arr1, arr2))\n",
        "print(joined_arrays)"
      ],
      "metadata": {
        "colab": {
          "base_uri": "https://localhost:8080/"
        },
        "id": "WJsP9Fff2Xrm",
        "outputId": "7b75d42d-88e0-4451-b8a6-2c5e6c53e521"
      },
      "execution_count": 17,
      "outputs": [
        {
          "output_type": "stream",
          "name": "stdout",
          "text": [
            "[['A' 'B']\n",
            " ['E' 'F']\n",
            " ['C' 'D']\n",
            " ['G' 'H']]\n"
          ]
        }
      ]
    },
    {
      "cell_type": "markdown",
      "source": [
        "#دمج المصفوفتين في السؤال السابق بناءً على الصفوف (axis = 1).\n"
      ],
      "metadata": {
        "id": "kRdjQo9C5gnh"
      }
    },
    {
      "cell_type": "code",
      "source": [
        "joined_arrays2 = np.concatenate((arr1, arr2), axis = 1)\n",
        "print(joined_arrays2)"
      ],
      "metadata": {
        "colab": {
          "base_uri": "https://localhost:8080/"
        },
        "id": "xADTwqC34F5j",
        "outputId": "c0f801af-1f96-451c-d362-d0c5f0cf8349"
      },
      "execution_count": 18,
      "outputs": [
        {
          "output_type": "stream",
          "name": "stdout",
          "text": [
            "[['A' 'B' 'C' 'D']\n",
            " ['E' 'F' 'G' 'H']]\n"
          ]
        }
      ]
    },
    {
      "cell_type": "markdown",
      "source": [
        "# فصل المصفوفة بالسؤال السابق إلى مصفوفتين، بحيث تحتوي كل مصفوفة على 4 مصفوفات مع تحديد (axis = 1)."
      ],
      "metadata": {
        "id": "byUw1eiW5j_p"
      }
    },
    {
      "cell_type": "code",
      "source": [
        "split_joined_arrays = np.array_split(joined_arrays, 2, axis = 1)\n",
        "print(split_joined_arrays)"
      ],
      "metadata": {
        "colab": {
          "base_uri": "https://localhost:8080/"
        },
        "id": "4KzWUOia4I1m",
        "outputId": "709e3542-d2b1-4875-ef0c-adc2d3afeaa0"
      },
      "execution_count": 19,
      "outputs": [
        {
          "output_type": "stream",
          "name": "stdout",
          "text": [
            "[array([['A'],\n",
            "       ['E'],\n",
            "       ['C'],\n",
            "       ['G']], dtype='<U1'), array([['B'],\n",
            "       ['F'],\n",
            "       ['D'],\n",
            "       ['H']], dtype='<U1')]\n"
          ]
        }
      ]
    },
    {
      "cell_type": "code",
      "source": [],
      "metadata": {
        "id": "5WUlLBtv4M3_"
      },
      "execution_count": null,
      "outputs": []
    }
  ]
}